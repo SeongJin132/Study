{
 "cells": [
  {
   "cell_type": "markdown",
   "metadata": {
    "id": "IeW5rnyWuWZX"
   },
   "source": [
    "# Chapter 04 코로나 바이러스 감염 현황 분석 2"
   ]
  },
  {
   "cell_type": "code",
   "execution_count": null,
   "metadata": {
    "colab": {
     "base_uri": "https://localhost:8080/"
    },
    "executionInfo": {
     "elapsed": 394,
     "status": "ok",
     "timestamp": 1698598420331,
     "user": {
      "displayName": "이혜정",
      "userId": "10067262863829432617"
     },
     "user_tz": -540
    },
    "id": "r3plllzBkt1o",
    "outputId": "d55ff253-d20f-45ef-f757-6a193ba75106"
   },
   "outputs": [
    {
     "name": "stdout",
     "output_type": "stream",
     "text": [
      "/content/drive/MyDrive/빅데이터분석(중핵) 2분반\n"
     ]
    }
   ],
   "source": [
    "## 드라이브 마운트 하기\n"
   ]
  },
  {
   "cell_type": "code",
   "execution_count": 20,
   "metadata": {
    "id": "n1qcEGLujpth"
   },
   "outputs": [],
   "source": [
    "# 판다스 라이브러리 불러오기\n",
    "import pandas as pd"
   ]
  },
  {
   "cell_type": "markdown",
   "metadata": {
    "id": "-_2bRa8dRcy0"
   },
   "source": [
    "###1. csv파일 탑재하고 정보 알아내기"
   ]
  },
  {
   "cell_type": "code",
   "execution_count": 21,
   "metadata": {
    "id": "u29wZ4c9jueB"
   },
   "outputs": [],
   "source": [
    "# 수집된 하와이 데이터 csv파일 탑재하기(csv파일을 불러와 hawaii 변수에 할당하기)\n",
    "hawaii = pd.read_csv('hawaii_covid_data.csv')"
   ]
  },
  {
   "cell_type": "code",
   "execution_count": 22,
   "metadata": {
    "id": "sktA83MLj6UQ"
   },
   "outputs": [
    {
     "data": {
      "text/html": [
       "<div>\n",
       "<style scoped>\n",
       "    .dataframe tbody tr th:only-of-type {\n",
       "        vertical-align: middle;\n",
       "    }\n",
       "\n",
       "    .dataframe tbody tr th {\n",
       "        vertical-align: top;\n",
       "    }\n",
       "\n",
       "    .dataframe thead th {\n",
       "        text-align: right;\n",
       "    }\n",
       "</style>\n",
       "<table border=\"1\" class=\"dataframe\">\n",
       "  <thead>\n",
       "    <tr style=\"text-align: right;\">\n",
       "      <th></th>\n",
       "      <th>date_updated</th>\n",
       "      <th>state</th>\n",
       "      <th>start_date</th>\n",
       "      <th>end_date</th>\n",
       "      <th>tot_cases</th>\n",
       "      <th>new_cases</th>\n",
       "      <th>tot_deaths</th>\n",
       "      <th>new_deaths</th>\n",
       "      <th>new_historic_cases</th>\n",
       "      <th>new_historic_deaths</th>\n",
       "    </tr>\n",
       "  </thead>\n",
       "  <tbody>\n",
       "    <tr>\n",
       "      <th>0</th>\n",
       "      <td>01/23/2020</td>\n",
       "      <td>HI</td>\n",
       "      <td>01/16/2020</td>\n",
       "      <td>01/22/2020</td>\n",
       "      <td>0</td>\n",
       "      <td>0</td>\n",
       "      <td>0</td>\n",
       "      <td>0</td>\n",
       "      <td>0</td>\n",
       "      <td>0</td>\n",
       "    </tr>\n",
       "    <tr>\n",
       "      <th>1</th>\n",
       "      <td>01/30/2020</td>\n",
       "      <td>HI</td>\n",
       "      <td>01/23/2020</td>\n",
       "      <td>01/29/2020</td>\n",
       "      <td>0</td>\n",
       "      <td>0</td>\n",
       "      <td>0</td>\n",
       "      <td>0</td>\n",
       "      <td>0</td>\n",
       "      <td>0</td>\n",
       "    </tr>\n",
       "    <tr>\n",
       "      <th>2</th>\n",
       "      <td>02/06/2020</td>\n",
       "      <td>HI</td>\n",
       "      <td>01/30/2020</td>\n",
       "      <td>02/05/2020</td>\n",
       "      <td>0</td>\n",
       "      <td>0</td>\n",
       "      <td>0</td>\n",
       "      <td>0</td>\n",
       "      <td>0</td>\n",
       "      <td>0</td>\n",
       "    </tr>\n",
       "    <tr>\n",
       "      <th>3</th>\n",
       "      <td>02/13/2020</td>\n",
       "      <td>HI</td>\n",
       "      <td>02/06/2020</td>\n",
       "      <td>02/12/2020</td>\n",
       "      <td>0</td>\n",
       "      <td>0</td>\n",
       "      <td>0</td>\n",
       "      <td>0</td>\n",
       "      <td>0</td>\n",
       "      <td>0</td>\n",
       "    </tr>\n",
       "    <tr>\n",
       "      <th>4</th>\n",
       "      <td>02/20/2020</td>\n",
       "      <td>HI</td>\n",
       "      <td>02/13/2020</td>\n",
       "      <td>02/19/2020</td>\n",
       "      <td>0</td>\n",
       "      <td>0</td>\n",
       "      <td>0</td>\n",
       "      <td>0</td>\n",
       "      <td>0</td>\n",
       "      <td>0</td>\n",
       "    </tr>\n",
       "    <tr>\n",
       "      <th>...</th>\n",
       "      <td>...</td>\n",
       "      <td>...</td>\n",
       "      <td>...</td>\n",
       "      <td>...</td>\n",
       "      <td>...</td>\n",
       "      <td>...</td>\n",
       "      <td>...</td>\n",
       "      <td>...</td>\n",
       "      <td>...</td>\n",
       "      <td>...</td>\n",
       "    </tr>\n",
       "    <tr>\n",
       "      <th>168</th>\n",
       "      <td>04/13/2023</td>\n",
       "      <td>HI</td>\n",
       "      <td>04/06/2023</td>\n",
       "      <td>04/12/2023</td>\n",
       "      <td>371120</td>\n",
       "      <td>932</td>\n",
       "      <td>1833</td>\n",
       "      <td>4</td>\n",
       "      <td>0</td>\n",
       "      <td>0</td>\n",
       "    </tr>\n",
       "    <tr>\n",
       "      <th>169</th>\n",
       "      <td>04/20/2023</td>\n",
       "      <td>HI</td>\n",
       "      <td>04/13/2023</td>\n",
       "      <td>04/19/2023</td>\n",
       "      <td>372029</td>\n",
       "      <td>909</td>\n",
       "      <td>1842</td>\n",
       "      <td>9</td>\n",
       "      <td>0</td>\n",
       "      <td>0</td>\n",
       "    </tr>\n",
       "    <tr>\n",
       "      <th>170</th>\n",
       "      <td>04/27/2023</td>\n",
       "      <td>HI</td>\n",
       "      <td>04/20/2023</td>\n",
       "      <td>04/26/2023</td>\n",
       "      <td>372862</td>\n",
       "      <td>833</td>\n",
       "      <td>1847</td>\n",
       "      <td>5</td>\n",
       "      <td>0</td>\n",
       "      <td>0</td>\n",
       "    </tr>\n",
       "    <tr>\n",
       "      <th>171</th>\n",
       "      <td>05/04/2023</td>\n",
       "      <td>HI</td>\n",
       "      <td>04/27/2023</td>\n",
       "      <td>05/03/2023</td>\n",
       "      <td>373610</td>\n",
       "      <td>748</td>\n",
       "      <td>1852</td>\n",
       "      <td>5</td>\n",
       "      <td>0</td>\n",
       "      <td>0</td>\n",
       "    </tr>\n",
       "    <tr>\n",
       "      <th>172</th>\n",
       "      <td>05/11/2023</td>\n",
       "      <td>HI</td>\n",
       "      <td>05/04/2023</td>\n",
       "      <td>05/10/2023</td>\n",
       "      <td>374264</td>\n",
       "      <td>654</td>\n",
       "      <td>1856</td>\n",
       "      <td>4</td>\n",
       "      <td>0</td>\n",
       "      <td>0</td>\n",
       "    </tr>\n",
       "  </tbody>\n",
       "</table>\n",
       "<p>173 rows × 10 columns</p>\n",
       "</div>"
      ],
      "text/plain": [
       "    date_updated state  start_date    end_date  tot_cases  new_cases  \\\n",
       "0     01/23/2020    HI  01/16/2020  01/22/2020          0          0   \n",
       "1     01/30/2020    HI  01/23/2020  01/29/2020          0          0   \n",
       "2     02/06/2020    HI  01/30/2020  02/05/2020          0          0   \n",
       "3     02/13/2020    HI  02/06/2020  02/12/2020          0          0   \n",
       "4     02/20/2020    HI  02/13/2020  02/19/2020          0          0   \n",
       "..           ...   ...         ...         ...        ...        ...   \n",
       "168   04/13/2023    HI  04/06/2023  04/12/2023     371120        932   \n",
       "169   04/20/2023    HI  04/13/2023  04/19/2023     372029        909   \n",
       "170   04/27/2023    HI  04/20/2023  04/26/2023     372862        833   \n",
       "171   05/04/2023    HI  04/27/2023  05/03/2023     373610        748   \n",
       "172   05/11/2023    HI  05/04/2023  05/10/2023     374264        654   \n",
       "\n",
       "     tot_deaths  new_deaths  new_historic_cases  new_historic_deaths  \n",
       "0             0           0                   0                    0  \n",
       "1             0           0                   0                    0  \n",
       "2             0           0                   0                    0  \n",
       "3             0           0                   0                    0  \n",
       "4             0           0                   0                    0  \n",
       "..          ...         ...                 ...                  ...  \n",
       "168        1833           4                   0                    0  \n",
       "169        1842           9                   0                    0  \n",
       "170        1847           5                   0                    0  \n",
       "171        1852           5                   0                    0  \n",
       "172        1856           4                   0                    0  \n",
       "\n",
       "[173 rows x 10 columns]"
      ]
     },
     "execution_count": 22,
     "metadata": {},
     "output_type": "execute_result"
    }
   ],
   "source": [
    "# 탑재한 내용 확인하기\n",
    "hawaii"
   ]
  },
  {
   "cell_type": "code",
   "execution_count": 23,
   "metadata": {
    "id": "JPl_ZUzyOFGU"
   },
   "outputs": [
    {
     "name": "stdout",
     "output_type": "stream",
     "text": [
      "<class 'pandas.core.frame.DataFrame'>\n",
      "RangeIndex: 173 entries, 0 to 172\n",
      "Data columns (total 10 columns):\n",
      " #   Column               Non-Null Count  Dtype \n",
      "---  ------               --------------  ----- \n",
      " 0   date_updated         173 non-null    object\n",
      " 1   state                173 non-null    object\n",
      " 2   start_date           173 non-null    object\n",
      " 3   end_date             173 non-null    object\n",
      " 4   tot_cases            173 non-null    int64 \n",
      " 5   new_cases            173 non-null    int64 \n",
      " 6   tot_deaths           173 non-null    int64 \n",
      " 7   new_deaths           173 non-null    int64 \n",
      " 8   new_historic_cases   173 non-null    int64 \n",
      " 9   new_historic_deaths  173 non-null    int64 \n",
      "dtypes: int64(6), object(4)\n",
      "memory usage: 13.6+ KB\n"
     ]
    }
   ],
   "source": [
    "# 데이터 프레임 정보 알아내기\n",
    "hawaii.info()"
   ]
  },
  {
   "cell_type": "code",
   "execution_count": 24,
   "metadata": {
    "id": "94F-ybKOOOSu"
   },
   "outputs": [
    {
     "data": {
      "text/plain": [
       "date_updated           0\n",
       "state                  0\n",
       "start_date             0\n",
       "end_date               0\n",
       "tot_cases              0\n",
       "new_cases              0\n",
       "tot_deaths             0\n",
       "new_deaths             0\n",
       "new_historic_cases     0\n",
       "new_historic_deaths    0\n",
       "dtype: int64"
      ]
     },
     "execution_count": 24,
     "metadata": {},
     "output_type": "execute_result"
    }
   ],
   "source": [
    "# 결측값 확인해보기\n",
    "hawaii.isnull().sum()"
   ]
  },
  {
   "cell_type": "markdown",
   "metadata": {
    "id": "jfEfrlAOIcua"
   },
   "source": [
    "###2. 필요한 열 추출 및 열이름 변경"
   ]
  },
  {
   "cell_type": "code",
   "execution_count": 25,
   "metadata": {
    "id": "of5UnOr4j8UP"
   },
   "outputs": [
    {
     "data": {
      "text/plain": [
       "Index(['date_updated', 'state', 'start_date', 'end_date', 'tot_cases',\n",
       "       'new_cases', 'tot_deaths', 'new_deaths', 'new_historic_cases',\n",
       "       'new_historic_deaths'],\n",
       "      dtype='object')"
      ]
     },
     "execution_count": 25,
     "metadata": {},
     "output_type": "execute_result"
    }
   ],
   "source": [
    "# 필요한 열 추출하기\n",
    "# (1) 열 정보 추출하기\n",
    "hawaii.columns"
   ]
  },
  {
   "cell_type": "code",
   "execution_count": 26,
   "metadata": {
    "id": "lyP3rWQ7wqj8"
   },
   "outputs": [],
   "source": [
    "# (2) 필요한 열 추출하기\n",
    "hawaii = hawaii[[\"end_date\",\"tot_cases\"]]"
   ]
  },
  {
   "cell_type": "code",
   "execution_count": 27,
   "metadata": {
    "id": "yS4Q-gUrMuJL"
   },
   "outputs": [
    {
     "name": "stderr",
     "output_type": "stream",
     "text": [
      "C:\\Users\\loly1\\AppData\\Local\\Temp\\ipykernel_19968\\1113142964.py:2: SettingWithCopyWarning: \n",
      "A value is trying to be set on a copy of a slice from a DataFrame\n",
      "\n",
      "See the caveats in the documentation: https://pandas.pydata.org/pandas-docs/stable/user_guide/indexing.html#returning-a-view-versus-a-copy\n",
      "  hawaii.rename(columns = {\"end_date\":'date',\"tot_cases\":\"total_cases\"},inplace = True)\n"
     ]
    }
   ],
   "source": [
    "# 하와이 데이터의 열제목 변경하기(date, total_cases로)\n",
    "hawaii.rename(columns = {\"end_date\":'date',\"tot_cases\":\"total_cases\"},inplace = True)"
   ]
  },
  {
   "cell_type": "code",
   "execution_count": 29,
   "metadata": {},
   "outputs": [
    {
     "data": {
      "text/html": [
       "<div>\n",
       "<style scoped>\n",
       "    .dataframe tbody tr th:only-of-type {\n",
       "        vertical-align: middle;\n",
       "    }\n",
       "\n",
       "    .dataframe tbody tr th {\n",
       "        vertical-align: top;\n",
       "    }\n",
       "\n",
       "    .dataframe thead th {\n",
       "        text-align: right;\n",
       "    }\n",
       "</style>\n",
       "<table border=\"1\" class=\"dataframe\">\n",
       "  <thead>\n",
       "    <tr style=\"text-align: right;\">\n",
       "      <th></th>\n",
       "      <th>date</th>\n",
       "      <th>total_cases</th>\n",
       "    </tr>\n",
       "  </thead>\n",
       "  <tbody>\n",
       "    <tr>\n",
       "      <th>0</th>\n",
       "      <td>01/22/2020</td>\n",
       "      <td>0</td>\n",
       "    </tr>\n",
       "    <tr>\n",
       "      <th>1</th>\n",
       "      <td>01/29/2020</td>\n",
       "      <td>0</td>\n",
       "    </tr>\n",
       "    <tr>\n",
       "      <th>2</th>\n",
       "      <td>02/05/2020</td>\n",
       "      <td>0</td>\n",
       "    </tr>\n",
       "    <tr>\n",
       "      <th>3</th>\n",
       "      <td>02/12/2020</td>\n",
       "      <td>0</td>\n",
       "    </tr>\n",
       "    <tr>\n",
       "      <th>4</th>\n",
       "      <td>02/19/2020</td>\n",
       "      <td>0</td>\n",
       "    </tr>\n",
       "    <tr>\n",
       "      <th>...</th>\n",
       "      <td>...</td>\n",
       "      <td>...</td>\n",
       "    </tr>\n",
       "    <tr>\n",
       "      <th>168</th>\n",
       "      <td>04/12/2023</td>\n",
       "      <td>371120</td>\n",
       "    </tr>\n",
       "    <tr>\n",
       "      <th>169</th>\n",
       "      <td>04/19/2023</td>\n",
       "      <td>372029</td>\n",
       "    </tr>\n",
       "    <tr>\n",
       "      <th>170</th>\n",
       "      <td>04/26/2023</td>\n",
       "      <td>372862</td>\n",
       "    </tr>\n",
       "    <tr>\n",
       "      <th>171</th>\n",
       "      <td>05/03/2023</td>\n",
       "      <td>373610</td>\n",
       "    </tr>\n",
       "    <tr>\n",
       "      <th>172</th>\n",
       "      <td>05/10/2023</td>\n",
       "      <td>374264</td>\n",
       "    </tr>\n",
       "  </tbody>\n",
       "</table>\n",
       "<p>173 rows × 2 columns</p>\n",
       "</div>"
      ],
      "text/plain": [
       "           date  total_cases\n",
       "0    01/22/2020            0\n",
       "1    01/29/2020            0\n",
       "2    02/05/2020            0\n",
       "3    02/12/2020            0\n",
       "4    02/19/2020            0\n",
       "..          ...          ...\n",
       "168  04/12/2023       371120\n",
       "169  04/19/2023       372029\n",
       "170  04/26/2023       372862\n",
       "171  05/03/2023       373610\n",
       "172  05/10/2023       374264\n",
       "\n",
       "[173 rows x 2 columns]"
      ]
     },
     "execution_count": 29,
     "metadata": {},
     "output_type": "execute_result"
    }
   ],
   "source": [
    "hawaii"
   ]
  },
  {
   "cell_type": "markdown",
   "metadata": {
    "id": "Bz64HZoVNr39"
   },
   "source": [
    "###3. 하와이 인구대비 확진자수 구하기 --> date를 날짜 형식 변경"
   ]
  },
  {
   "cell_type": "code",
   "execution_count": null,
   "metadata": {
    "id": "XFyqQ4E_xPZa"
   },
   "outputs": [],
   "source": [
    "# 하와이의 인구대비 확진자 비율 구하여 'RATE'열에 할당하기\n",
    "# 하와이 날짜기준으로 데이터를 새로 만들 필요가 있음.\n",
    "# 하와이 데이터는 날짜가 문자열 타입으로 되어있음 --> 날짜 형식으로 만들어야 함."
   ]
  },
  {
   "cell_type": "code",
   "execution_count": 31,
   "metadata": {
    "id": "OukgKeCuJgzk"
   },
   "outputs": [
    {
     "name": "stderr",
     "output_type": "stream",
     "text": [
      "C:\\Users\\loly1\\AppData\\Local\\Temp\\ipykernel_19968\\2715171693.py:3: SettingWithCopyWarning: \n",
      "A value is trying to be set on a copy of a slice from a DataFrame.\n",
      "Try using .loc[row_indexer,col_indexer] = value instead\n",
      "\n",
      "See the caveats in the documentation: https://pandas.pydata.org/pandas-docs/stable/user_guide/indexing.html#returning-a-view-versus-a-copy\n",
      "  hawaii.date = pd.to_datetime(hawaii.date)\n"
     ]
    }
   ],
   "source": [
    "# 하와이 데이터의 날짜를 날짜 타입으로 변경하기\n",
    "# (1) date열을 날짜 형식으로 변경해보기\n",
    "hawaii.date = pd.to_datetime(hawaii.date)"
   ]
  },
  {
   "cell_type": "code",
   "execution_count": 32,
   "metadata": {
    "id": "Xef5Ix6fK_Xm"
   },
   "outputs": [
    {
     "name": "stdout",
     "output_type": "stream",
     "text": [
      "<class 'pandas.core.frame.DataFrame'>\n",
      "RangeIndex: 173 entries, 0 to 172\n",
      "Data columns (total 2 columns):\n",
      " #   Column       Non-Null Count  Dtype         \n",
      "---  ------       --------------  -----         \n",
      " 0   date         173 non-null    datetime64[ns]\n",
      " 1   total_cases  173 non-null    int64         \n",
      "dtypes: datetime64[ns](1), int64(1)\n",
      "memory usage: 2.8 KB\n"
     ]
    }
   ],
   "source": [
    "# (3) 하와이 데이터 확인 후 정보 확인하기\n",
    "hawaii.info()"
   ]
  },
  {
   "cell_type": "markdown",
   "metadata": {
    "id": "mQtnxtJwQr5j"
   },
   "source": [
    "##4. kor_usa.csv파일 탑재 후 date열을 날짜 형식으로 변겅\n"
   ]
  },
  {
   "cell_type": "code",
   "execution_count": 33,
   "metadata": {
    "id": "Pea5aOpZkiDG"
   },
   "outputs": [],
   "source": [
    "# 지난시간 결과물인 kor_usa.csv파일 탑재하기\n",
    "kor_usa =  pd.read_csv('kor_usa.csv')"
   ]
  },
  {
   "cell_type": "code",
   "execution_count": 34,
   "metadata": {
    "id": "fJa0w3_AL1lp"
   },
   "outputs": [
    {
     "name": "stdout",
     "output_type": "stream",
     "text": [
      "<class 'pandas.core.frame.DataFrame'>\n",
      "RangeIndex: 1362 entries, 0 to 1361\n",
      "Data columns (total 5 columns):\n",
      " #   Column    Non-Null Count  Dtype  \n",
      "---  ------    --------------  -----  \n",
      " 0   date      1362 non-null   object \n",
      " 1   KOR       1362 non-null   float64\n",
      " 2   USA       1362 non-null   float64\n",
      " 3   KOR_RATE  1362 non-null   float64\n",
      " 4   USA_RATE  1362 non-null   float64\n",
      "dtypes: float64(4), object(1)\n",
      "memory usage: 53.3+ KB\n"
     ]
    }
   ],
   "source": [
    "# kor_usa 데이터 정보 확인하기\n",
    "kor_usa.info()"
   ]
  },
  {
   "cell_type": "code",
   "execution_count": 36,
   "metadata": {
    "id": "Jkil0aTiRCav"
   },
   "outputs": [],
   "source": [
    "# date열을 날짜형식으로 변경\n",
    "kor_usa.date = pd.to_datetime(kor_usa.date)"
   ]
  },
  {
   "cell_type": "code",
   "execution_count": 37,
   "metadata": {
    "id": "J6SwHj4CRxRX"
   },
   "outputs": [
    {
     "name": "stdout",
     "output_type": "stream",
     "text": [
      "<class 'pandas.core.frame.DataFrame'>\n",
      "RangeIndex: 1362 entries, 0 to 1361\n",
      "Data columns (total 5 columns):\n",
      " #   Column    Non-Null Count  Dtype         \n",
      "---  ------    --------------  -----         \n",
      " 0   date      1362 non-null   datetime64[ns]\n",
      " 1   KOR       1362 non-null   float64       \n",
      " 2   USA       1362 non-null   float64       \n",
      " 3   KOR_RATE  1362 non-null   float64       \n",
      " 4   USA_RATE  1362 non-null   float64       \n",
      "dtypes: datetime64[ns](1), float64(4)\n",
      "memory usage: 53.3 KB\n"
     ]
    }
   ],
   "source": [
    "# kor_usa의 정보보기\n",
    "kor_usa.info()"
   ]
  },
  {
   "cell_type": "markdown",
   "metadata": {
    "id": "dtF6NkOORlfd"
   },
   "source": [
    "###5. date열을 인덱스로 변경, 하와이 연도별 인구대비 확진자 수 구하기\n",
    "###--> for 두개의 데이터프레임 병합"
   ]
  },
  {
   "cell_type": "code",
   "execution_count": 38,
   "metadata": {
    "id": "fJf5aidJkrq6"
   },
   "outputs": [],
   "source": [
    "# kor_usa, hawaii 데이터프레임 index를 'date'로 변경\n",
    "kor_usa.set_index(\"date\",inplace = True)\n",
    "hawaii.set_index(\"date\",inplace = True)"
   ]
  },
  {
   "cell_type": "code",
   "execution_count": 40,
   "metadata": {},
   "outputs": [
    {
     "data": {
      "text/html": [
       "<div>\n",
       "<style scoped>\n",
       "    .dataframe tbody tr th:only-of-type {\n",
       "        vertical-align: middle;\n",
       "    }\n",
       "\n",
       "    .dataframe tbody tr th {\n",
       "        vertical-align: top;\n",
       "    }\n",
       "\n",
       "    .dataframe thead th {\n",
       "        text-align: right;\n",
       "    }\n",
       "</style>\n",
       "<table border=\"1\" class=\"dataframe\">\n",
       "  <thead>\n",
       "    <tr style=\"text-align: right;\">\n",
       "      <th></th>\n",
       "      <th>total_cases</th>\n",
       "    </tr>\n",
       "    <tr>\n",
       "      <th>date</th>\n",
       "      <th></th>\n",
       "    </tr>\n",
       "  </thead>\n",
       "  <tbody>\n",
       "    <tr>\n",
       "      <th>2020-01-22</th>\n",
       "      <td>0</td>\n",
       "    </tr>\n",
       "    <tr>\n",
       "      <th>2020-01-29</th>\n",
       "      <td>0</td>\n",
       "    </tr>\n",
       "    <tr>\n",
       "      <th>2020-02-05</th>\n",
       "      <td>0</td>\n",
       "    </tr>\n",
       "    <tr>\n",
       "      <th>2020-02-12</th>\n",
       "      <td>0</td>\n",
       "    </tr>\n",
       "    <tr>\n",
       "      <th>2020-02-19</th>\n",
       "      <td>0</td>\n",
       "    </tr>\n",
       "    <tr>\n",
       "      <th>...</th>\n",
       "      <td>...</td>\n",
       "    </tr>\n",
       "    <tr>\n",
       "      <th>2023-04-12</th>\n",
       "      <td>371120</td>\n",
       "    </tr>\n",
       "    <tr>\n",
       "      <th>2023-04-19</th>\n",
       "      <td>372029</td>\n",
       "    </tr>\n",
       "    <tr>\n",
       "      <th>2023-04-26</th>\n",
       "      <td>372862</td>\n",
       "    </tr>\n",
       "    <tr>\n",
       "      <th>2023-05-03</th>\n",
       "      <td>373610</td>\n",
       "    </tr>\n",
       "    <tr>\n",
       "      <th>2023-05-10</th>\n",
       "      <td>374264</td>\n",
       "    </tr>\n",
       "  </tbody>\n",
       "</table>\n",
       "<p>173 rows × 1 columns</p>\n",
       "</div>"
      ],
      "text/plain": [
       "            total_cases\n",
       "date                   \n",
       "2020-01-22            0\n",
       "2020-01-29            0\n",
       "2020-02-05            0\n",
       "2020-02-12            0\n",
       "2020-02-19            0\n",
       "...                 ...\n",
       "2023-04-12       371120\n",
       "2023-04-19       372029\n",
       "2023-04-26       372862\n",
       "2023-05-03       373610\n",
       "2023-05-10       374264\n",
       "\n",
       "[173 rows x 1 columns]"
      ]
     },
     "execution_count": 40,
     "metadata": {},
     "output_type": "execute_result"
    }
   ],
   "source": [
    "hawaii"
   ]
  },
  {
   "cell_type": "code",
   "execution_count": null,
   "metadata": {
    "id": "M4_c4q16Pip5"
   },
   "outputs": [],
   "source": [
    "# 하와이 데이터 연도별 인구대비 확진자 수 구하기\n",
    "# 연도별 인구수 알아내기 2020: , 2021: , 2022:\n",
    "# 하와이 인구(2020, 2021, 2022) : 1451043, 1447154, 1440196\n",
    "# 하와이 데이터의 특징은? 주별로 통계가 매김됨"
   ]
  },
  {
   "cell_type": "code",
   "execution_count": 41,
   "metadata": {
    "id": "J3_lLTWNlfjg"
   },
   "outputs": [
    {
     "data": {
      "text/plain": [
       "Int64Index([2020, 2020, 2020, 2020, 2020, 2020, 2020, 2020, 2020, 2020,\n",
       "            ...\n",
       "            2023, 2023, 2023, 2023, 2023, 2023, 2023, 2023, 2023, 2023],\n",
       "           dtype='int64', name='date', length=173)"
      ]
     },
     "execution_count": 41,
     "metadata": {},
     "output_type": "execute_result"
    }
   ],
   "source": [
    "# 연도를 조건으로 행 추출해보기\n",
    "hawaii.index.year"
   ]
  },
  {
   "cell_type": "code",
   "execution_count": 42,
   "metadata": {
    "id": "RSEDVY2GWg6L"
   },
   "outputs": [
    {
     "name": "stderr",
     "output_type": "stream",
     "text": [
      "C:\\Users\\loly1\\AppData\\Local\\Temp\\ipykernel_19968\\2526664725.py:2: SettingWithCopyWarning: \n",
      "A value is trying to be set on a copy of a slice from a DataFrame.\n",
      "Try using .loc[row_indexer,col_indexer] = value instead\n",
      "\n",
      "See the caveats in the documentation: https://pandas.pydata.org/pandas-docs/stable/user_guide/indexing.html#returning-a-view-versus-a-copy\n",
      "  hawaii['HI_RATE'] = hawaii[hawaii.index.year==2020]['total_cases'] / 1451043\n"
     ]
    }
   ],
   "source": [
    "# 연도별 인구대비 확진자수 구하여 'HI_RATE'열에 할당하기\n",
    "hawaii['HI_RATE'] = hawaii[hawaii.index.year==2020]['total_cases'] / 1451043"
   ]
  },
  {
   "cell_type": "code",
   "execution_count": null,
   "metadata": {
    "id": "lZUJqqQdV2g_"
   },
   "outputs": [],
   "source": [
    "# 연도별 인구대비 확진자수 구하여 'HI_RATE'열에 할당하기(loc이용 )\n"
   ]
  },
  {
   "cell_type": "code",
   "execution_count": 52,
   "metadata": {
    "id": "e2k1pBs6lr6Y"
   },
   "outputs": [
    {
     "data": {
      "text/html": [
       "<div>\n",
       "<style scoped>\n",
       "    .dataframe tbody tr th:only-of-type {\n",
       "        vertical-align: middle;\n",
       "    }\n",
       "\n",
       "    .dataframe tbody tr th {\n",
       "        vertical-align: top;\n",
       "    }\n",
       "\n",
       "    .dataframe thead th {\n",
       "        text-align: right;\n",
       "    }\n",
       "</style>\n",
       "<table border=\"1\" class=\"dataframe\">\n",
       "  <thead>\n",
       "    <tr style=\"text-align: right;\">\n",
       "      <th></th>\n",
       "      <th>total_cases</th>\n",
       "      <th>HI_RATE</th>\n",
       "    </tr>\n",
       "    <tr>\n",
       "      <th>date</th>\n",
       "      <th></th>\n",
       "      <th></th>\n",
       "    </tr>\n",
       "  </thead>\n",
       "  <tbody>\n",
       "    <tr>\n",
       "      <th>2020-01-22</th>\n",
       "      <td>0</td>\n",
       "      <td>0.000000</td>\n",
       "    </tr>\n",
       "    <tr>\n",
       "      <th>2020-01-29</th>\n",
       "      <td>0</td>\n",
       "      <td>0.000000</td>\n",
       "    </tr>\n",
       "    <tr>\n",
       "      <th>2020-02-05</th>\n",
       "      <td>0</td>\n",
       "      <td>0.000000</td>\n",
       "    </tr>\n",
       "    <tr>\n",
       "      <th>2020-02-12</th>\n",
       "      <td>0</td>\n",
       "      <td>0.000000</td>\n",
       "    </tr>\n",
       "    <tr>\n",
       "      <th>2020-02-19</th>\n",
       "      <td>0</td>\n",
       "      <td>0.000000</td>\n",
       "    </tr>\n",
       "    <tr>\n",
       "      <th>2020-02-26</th>\n",
       "      <td>0</td>\n",
       "      <td>0.000000</td>\n",
       "    </tr>\n",
       "    <tr>\n",
       "      <th>2020-03-04</th>\n",
       "      <td>0</td>\n",
       "      <td>0.000000</td>\n",
       "    </tr>\n",
       "    <tr>\n",
       "      <th>2020-03-11</th>\n",
       "      <td>4</td>\n",
       "      <td>0.000003</td>\n",
       "    </tr>\n",
       "    <tr>\n",
       "      <th>2020-03-18</th>\n",
       "      <td>19</td>\n",
       "      <td>0.000013</td>\n",
       "    </tr>\n",
       "    <tr>\n",
       "      <th>2020-03-25</th>\n",
       "      <td>105</td>\n",
       "      <td>0.000072</td>\n",
       "    </tr>\n",
       "    <tr>\n",
       "      <th>2020-04-01</th>\n",
       "      <td>257</td>\n",
       "      <td>0.000177</td>\n",
       "    </tr>\n",
       "    <tr>\n",
       "      <th>2020-04-08</th>\n",
       "      <td>406</td>\n",
       "      <td>0.000280</td>\n",
       "    </tr>\n",
       "    <tr>\n",
       "      <th>2020-04-15</th>\n",
       "      <td>488</td>\n",
       "      <td>0.000336</td>\n",
       "    </tr>\n",
       "    <tr>\n",
       "      <th>2020-04-22</th>\n",
       "      <td>551</td>\n",
       "      <td>0.000380</td>\n",
       "    </tr>\n",
       "    <tr>\n",
       "      <th>2020-04-29</th>\n",
       "      <td>583</td>\n",
       "      <td>0.000402</td>\n",
       "    </tr>\n",
       "    <tr>\n",
       "      <th>2020-05-06</th>\n",
       "      <td>607</td>\n",
       "      <td>0.000418</td>\n",
       "    </tr>\n",
       "    <tr>\n",
       "      <th>2020-05-13</th>\n",
       "      <td>623</td>\n",
       "      <td>0.000429</td>\n",
       "    </tr>\n",
       "    <tr>\n",
       "      <th>2020-05-20</th>\n",
       "      <td>638</td>\n",
       "      <td>0.000440</td>\n",
       "    </tr>\n",
       "    <tr>\n",
       "      <th>2020-05-27</th>\n",
       "      <td>647</td>\n",
       "      <td>0.000446</td>\n",
       "    </tr>\n",
       "    <tr>\n",
       "      <th>2020-06-03</th>\n",
       "      <td>659</td>\n",
       "      <td>0.000454</td>\n",
       "    </tr>\n",
       "  </tbody>\n",
       "</table>\n",
       "</div>"
      ],
      "text/plain": [
       "            total_cases   HI_RATE\n",
       "date                             \n",
       "2020-01-22            0  0.000000\n",
       "2020-01-29            0  0.000000\n",
       "2020-02-05            0  0.000000\n",
       "2020-02-12            0  0.000000\n",
       "2020-02-19            0  0.000000\n",
       "2020-02-26            0  0.000000\n",
       "2020-03-04            0  0.000000\n",
       "2020-03-11            4  0.000003\n",
       "2020-03-18           19  0.000013\n",
       "2020-03-25          105  0.000072\n",
       "2020-04-01          257  0.000177\n",
       "2020-04-08          406  0.000280\n",
       "2020-04-15          488  0.000336\n",
       "2020-04-22          551  0.000380\n",
       "2020-04-29          583  0.000402\n",
       "2020-05-06          607  0.000418\n",
       "2020-05-13          623  0.000429\n",
       "2020-05-20          638  0.000440\n",
       "2020-05-27          647  0.000446\n",
       "2020-06-03          659  0.000454"
      ]
     },
     "execution_count": 52,
     "metadata": {},
     "output_type": "execute_result"
    }
   ],
   "source": [
    "# 앞에서 20개 데이터 확인해보기\n",
    "hawaii.head(20)"
   ]
  },
  {
   "cell_type": "code",
   "execution_count": 48,
   "metadata": {
    "id": "0g1vIXY6mVOw"
   },
   "outputs": [],
   "source": [
    "# 인구대비 확진자수 모두 계산하기(2021, 2022, 2023-2022인구로)\n",
    "hawaii.loc[hawaii.index.year==2021,'HI_RATE'] = hawaii.total_cases / 1451043\n",
    "hawaii.loc[hawaii.index.year==2021,'HI_RATE'] = hawaii.total_cases / 1447154\n",
    "hawaii.loc[hawaii.index.year==2022,'HI_RATE'] = hawaii.total_cases / 1440196\n",
    "hawaii.loc[hawaii.index.year==2023,'HI_RATE'] = hawaii.total_cases / 1440196"
   ]
  },
  {
   "cell_type": "code",
   "execution_count": 49,
   "metadata": {
    "id": "EYyUyRweSbnv"
   },
   "outputs": [
    {
     "name": "stdout",
     "output_type": "stream",
     "text": [
      "<class 'pandas.core.frame.DataFrame'>\n",
      "DatetimeIndex: 173 entries, 2020-01-22 to 2023-05-10\n",
      "Data columns (total 2 columns):\n",
      " #   Column       Non-Null Count  Dtype  \n",
      "---  ------       --------------  -----  \n",
      " 0   total_cases  173 non-null    int64  \n",
      " 1   HI_RATE      173 non-null    float64\n",
      "dtypes: float64(1), int64(1)\n",
      "memory usage: 8.1 KB\n"
     ]
    }
   ],
   "source": [
    "# 하와이 데이터 확인하기\n",
    "hawaii.info()"
   ]
  },
  {
   "cell_type": "markdown",
   "metadata": {
    "id": "BeulyiCGaYUB"
   },
   "source": [
    "###5. 하와이 날짜를 기준으로 새로운 데이터 프레임 생성"
   ]
  },
  {
   "cell_type": "code",
   "execution_count": 50,
   "metadata": {
    "id": "KRIKAybpotlu"
   },
   "outputs": [],
   "source": [
    "# kor_usa_hi 데이터 프레임 생성하기(인구대비 확진자 수)\n",
    "kor_usa_hi = pd.DataFrame({\"KOR\":kor_usa.KOR_RATE,\"USA\":kor_usa.USA_RATE,\"HI\":hawaii.HI_RATE})"
   ]
  },
  {
   "cell_type": "code",
   "execution_count": 51,
   "metadata": {
    "id": "LcOlhHVdpIHf"
   },
   "outputs": [
    {
     "data": {
      "text/html": [
       "<div>\n",
       "<style scoped>\n",
       "    .dataframe tbody tr th:only-of-type {\n",
       "        vertical-align: middle;\n",
       "    }\n",
       "\n",
       "    .dataframe tbody tr th {\n",
       "        vertical-align: top;\n",
       "    }\n",
       "\n",
       "    .dataframe thead th {\n",
       "        text-align: right;\n",
       "    }\n",
       "</style>\n",
       "<table border=\"1\" class=\"dataframe\">\n",
       "  <thead>\n",
       "    <tr style=\"text-align: right;\">\n",
       "      <th></th>\n",
       "      <th>KOR</th>\n",
       "      <th>USA</th>\n",
       "      <th>HI</th>\n",
       "    </tr>\n",
       "    <tr>\n",
       "      <th>date</th>\n",
       "      <th></th>\n",
       "      <th></th>\n",
       "      <th></th>\n",
       "    </tr>\n",
       "  </thead>\n",
       "  <tbody>\n",
       "    <tr>\n",
       "      <th>2020-01-20</th>\n",
       "      <td>0.00000</td>\n",
       "      <td>0.00000</td>\n",
       "      <td>NaN</td>\n",
       "    </tr>\n",
       "    <tr>\n",
       "      <th>2020-01-21</th>\n",
       "      <td>0.00000</td>\n",
       "      <td>0.00000</td>\n",
       "      <td>NaN</td>\n",
       "    </tr>\n",
       "    <tr>\n",
       "      <th>2020-01-22</th>\n",
       "      <td>0.00000</td>\n",
       "      <td>0.00000</td>\n",
       "      <td>0.0</td>\n",
       "    </tr>\n",
       "    <tr>\n",
       "      <th>2020-01-23</th>\n",
       "      <td>0.00000</td>\n",
       "      <td>0.00000</td>\n",
       "      <td>NaN</td>\n",
       "    </tr>\n",
       "    <tr>\n",
       "      <th>2020-01-24</th>\n",
       "      <td>0.00000</td>\n",
       "      <td>0.00000</td>\n",
       "      <td>NaN</td>\n",
       "    </tr>\n",
       "    <tr>\n",
       "      <th>...</th>\n",
       "      <td>...</td>\n",
       "      <td>...</td>\n",
       "      <td>...</td>\n",
       "    </tr>\n",
       "    <tr>\n",
       "      <th>2023-10-08</th>\n",
       "      <td>0.66721</td>\n",
       "      <td>0.30576</td>\n",
       "      <td>NaN</td>\n",
       "    </tr>\n",
       "    <tr>\n",
       "      <th>2023-10-09</th>\n",
       "      <td>0.66721</td>\n",
       "      <td>0.30576</td>\n",
       "      <td>NaN</td>\n",
       "    </tr>\n",
       "    <tr>\n",
       "      <th>2023-10-10</th>\n",
       "      <td>0.66721</td>\n",
       "      <td>0.30576</td>\n",
       "      <td>NaN</td>\n",
       "    </tr>\n",
       "    <tr>\n",
       "      <th>2023-10-11</th>\n",
       "      <td>0.66721</td>\n",
       "      <td>0.30576</td>\n",
       "      <td>NaN</td>\n",
       "    </tr>\n",
       "    <tr>\n",
       "      <th>2023-10-12</th>\n",
       "      <td>0.66721</td>\n",
       "      <td>0.30576</td>\n",
       "      <td>NaN</td>\n",
       "    </tr>\n",
       "  </tbody>\n",
       "</table>\n",
       "<p>1362 rows × 3 columns</p>\n",
       "</div>"
      ],
      "text/plain": [
       "                KOR      USA   HI\n",
       "date                             \n",
       "2020-01-20  0.00000  0.00000  NaN\n",
       "2020-01-21  0.00000  0.00000  NaN\n",
       "2020-01-22  0.00000  0.00000  0.0\n",
       "2020-01-23  0.00000  0.00000  NaN\n",
       "2020-01-24  0.00000  0.00000  NaN\n",
       "...             ...      ...  ...\n",
       "2023-10-08  0.66721  0.30576  NaN\n",
       "2023-10-09  0.66721  0.30576  NaN\n",
       "2023-10-10  0.66721  0.30576  NaN\n",
       "2023-10-11  0.66721  0.30576  NaN\n",
       "2023-10-12  0.66721  0.30576  NaN\n",
       "\n",
       "[1362 rows x 3 columns]"
      ]
     },
     "execution_count": 51,
     "metadata": {},
     "output_type": "execute_result"
    }
   ],
   "source": [
    "# kor_usa_hi 데이터 확인하기\n",
    "kor_usa_hi"
   ]
  },
  {
   "cell_type": "code",
   "execution_count": 53,
   "metadata": {},
   "outputs": [
    {
     "data": {
      "text/html": [
       "<div>\n",
       "<style scoped>\n",
       "    .dataframe tbody tr th:only-of-type {\n",
       "        vertical-align: middle;\n",
       "    }\n",
       "\n",
       "    .dataframe tbody tr th {\n",
       "        vertical-align: top;\n",
       "    }\n",
       "\n",
       "    .dataframe thead th {\n",
       "        text-align: right;\n",
       "    }\n",
       "</style>\n",
       "<table border=\"1\" class=\"dataframe\">\n",
       "  <thead>\n",
       "    <tr style=\"text-align: right;\">\n",
       "      <th></th>\n",
       "      <th>KOR</th>\n",
       "      <th>USA</th>\n",
       "      <th>HI</th>\n",
       "    </tr>\n",
       "    <tr>\n",
       "      <th>date</th>\n",
       "      <th></th>\n",
       "      <th></th>\n",
       "      <th></th>\n",
       "    </tr>\n",
       "  </thead>\n",
       "  <tbody>\n",
       "    <tr>\n",
       "      <th>2020-01-22</th>\n",
       "      <td>0.00000</td>\n",
       "      <td>0.00000</td>\n",
       "      <td>0.000000</td>\n",
       "    </tr>\n",
       "    <tr>\n",
       "      <th>2020-01-29</th>\n",
       "      <td>0.00000</td>\n",
       "      <td>0.00000</td>\n",
       "      <td>0.000000</td>\n",
       "    </tr>\n",
       "    <tr>\n",
       "      <th>2020-02-05</th>\n",
       "      <td>0.00000</td>\n",
       "      <td>0.00000</td>\n",
       "      <td>0.000000</td>\n",
       "    </tr>\n",
       "    <tr>\n",
       "      <th>2020-02-12</th>\n",
       "      <td>0.00000</td>\n",
       "      <td>0.00000</td>\n",
       "      <td>0.000000</td>\n",
       "    </tr>\n",
       "    <tr>\n",
       "      <th>2020-02-19</th>\n",
       "      <td>0.00000</td>\n",
       "      <td>0.00000</td>\n",
       "      <td>0.000000</td>\n",
       "    </tr>\n",
       "    <tr>\n",
       "      <th>...</th>\n",
       "      <td>...</td>\n",
       "      <td>...</td>\n",
       "      <td>...</td>\n",
       "    </tr>\n",
       "    <tr>\n",
       "      <th>2023-04-12</th>\n",
       "      <td>0.59720</td>\n",
       "      <td>0.30441</td>\n",
       "      <td>0.257687</td>\n",
       "    </tr>\n",
       "    <tr>\n",
       "      <th>2023-04-19</th>\n",
       "      <td>0.59877</td>\n",
       "      <td>0.30471</td>\n",
       "      <td>0.258318</td>\n",
       "    </tr>\n",
       "    <tr>\n",
       "      <th>2023-04-26</th>\n",
       "      <td>0.60049</td>\n",
       "      <td>0.30500</td>\n",
       "      <td>0.258897</td>\n",
       "    </tr>\n",
       "    <tr>\n",
       "      <th>2023-05-03</th>\n",
       "      <td>0.60238</td>\n",
       "      <td>0.30526</td>\n",
       "      <td>0.259416</td>\n",
       "    </tr>\n",
       "    <tr>\n",
       "      <th>2023-05-10</th>\n",
       "      <td>0.60466</td>\n",
       "      <td>0.30549</td>\n",
       "      <td>0.259870</td>\n",
       "    </tr>\n",
       "  </tbody>\n",
       "</table>\n",
       "<p>173 rows × 3 columns</p>\n",
       "</div>"
      ],
      "text/plain": [
       "                KOR      USA        HI\n",
       "date                                  \n",
       "2020-01-22  0.00000  0.00000  0.000000\n",
       "2020-01-29  0.00000  0.00000  0.000000\n",
       "2020-02-05  0.00000  0.00000  0.000000\n",
       "2020-02-12  0.00000  0.00000  0.000000\n",
       "2020-02-19  0.00000  0.00000  0.000000\n",
       "...             ...      ...       ...\n",
       "2023-04-12  0.59720  0.30441  0.257687\n",
       "2023-04-19  0.59877  0.30471  0.258318\n",
       "2023-04-26  0.60049  0.30500  0.258897\n",
       "2023-05-03  0.60238  0.30526  0.259416\n",
       "2023-05-10  0.60466  0.30549  0.259870\n",
       "\n",
       "[173 rows x 3 columns]"
      ]
     },
     "execution_count": 53,
     "metadata": {},
     "output_type": "execute_result"
    }
   ],
   "source": [
    "kor_usa_hi.dropna(inplace = True)\n",
    "kor_usa_hi"
   ]
  },
  {
   "cell_type": "markdown",
   "metadata": {
    "id": "GLKU8EI-XFSw"
   },
   "source": [
    "# 데이터 시각화"
   ]
  },
  {
   "cell_type": "code",
   "execution_count": 54,
   "metadata": {
    "id": "8g9KUtGytDL3"
   },
   "outputs": [
    {
     "data": {
      "text/plain": [
       "<AxesSubplot:xlabel='date'>"
      ]
     },
     "execution_count": 54,
     "metadata": {},
     "output_type": "execute_result"
    },
    {
     "data": {
      "image/png": "[encoded data removed]",
      "text/plain": [
       "<Figure size 640x480 with 1 Axes>"
      ]
     },
     "metadata": {},
     "output_type": "display_data"
    }
   ],
   "source": [
    "# 시각화 하기\n",
    "kor_usa_hi.plot(rot=45)"
   ]
  },
  {
   "cell_type": "code",
   "execution_count": 57,
   "metadata": {
    "id": "bQeWcgXvtEZe"
   },
   "outputs": [
    {
     "data": {
      "text/plain": [
       "<AxesSubplot:xlabel='date'>"
      ]
     },
     "execution_count": 57,
     "metadata": {},
     "output_type": "execute_result"
    },
    {
     "data": {
      "image/png": "[encoded data removed]",
      "text/plain": [
       "<Figure size 640x480 with 1 Axes>"
      ]
     },
     "metadata": {},
     "output_type": "display_data"
    }
   ],
   "source": [
    "# x축 항목 숫자로 된 날짜형식으로 변경하기\n",
    "kor_usa_hi.plot(x_compat = True)"
   ]
  },
  {
   "cell_type": "code",
   "execution_count": 58,
   "metadata": {
    "id": "XTPX1Y9euRTw"
   },
   "outputs": [
    {
     "data": {
      "text/plain": [
       "<AxesSubplot:xlabel='date'>"
      ]
     },
     "execution_count": 58,
     "metadata": {},
     "output_type": "execute_result"
    },
    {
     "data": {
      "image/png": "[encoded data removed]",
      "text/plain": [
       "<Figure size 640x480 with 1 Axes>"
      ]
     },
     "metadata": {},
     "output_type": "display_data"
    }
   ],
   "source": [
    "# 원하는 날짜로 x축 범위 좁히기(2022년 부터)\n",
    "kor_usa_hi['2022-01':].plot(x_compat = True)"
   ]
  },
  {
   "cell_type": "code",
   "execution_count": null,
   "metadata": {
    "id": "rkersZ2OwnRp"
   },
   "outputs": [],
   "source": []
  }
 ],
 "metadata": {
  "colab": {
   "authorship_tag": "ABX9TyPF826toG8hv57942/Lrj3q",
   "mount_file_id": "1JgjEkAMMM4ScyKg7OQ-KhYlbjjJ4uHh1",
   "provenance": []
  },
  "kernelspec": {
   "display_name": "Python 3 (ipykernel)",
   "language": "python",
   "name": "python3"
  },
  "language_info": {
   "codemirror_mode": {
    "name": "ipython",
    "version": 3
   },
   "file_extension": ".py",
   "mimetype": "text/x-python",
   "name": "python",
   "nbconvert_exporter": "python",
   "pygments_lexer": "ipython3",
   "version": "3.9.13"
  }
 },
 "nbformat": 4,
 "nbformat_minor": 1
}
